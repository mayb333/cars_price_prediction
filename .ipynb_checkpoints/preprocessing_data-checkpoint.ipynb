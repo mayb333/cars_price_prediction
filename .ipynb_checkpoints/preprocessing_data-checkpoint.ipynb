{
 "cells": [
  {
   "cell_type": "code",
   "execution_count": 1,
   "id": "1bb59a3b",
   "metadata": {},
   "outputs": [],
   "source": [
    "import pandas as pd\n",
    "import numpy as np\n",
    "import re\n",
    "\n",
    "import seaborn as sns\n",
    "import matplotlib.pyplot as plt"
   ]
  },
  {
   "cell_type": "markdown",
   "id": "a21f7655",
   "metadata": {},
   "source": [
    "# 1 Data preprocessing"
   ]
  },
  {
   "cell_type": "code",
   "execution_count": 2,
   "id": "407d92b3",
   "metadata": {},
   "outputs": [],
   "source": [
    "df = pd.read_csv('kia_data.csv', sep=';')\n",
    "\n",
    "df.rename(columns={'engine_type': 'engine',\n",
    "                   'transmission_type': 'transmission',\n",
    "                   'drivetrain_type': 'drivetrain',\n",
    "                   'car_is_new': 'new'}, inplace=True)\n",
    "df.drop(['no_eval_price', 'normal_price', 'high_price'], axis=1, inplace=True)"
   ]
  },
  {
   "cell_type": "code",
   "execution_count": 3,
   "id": "ad6d7571",
   "metadata": {},
   "outputs": [
    {
     "data": {
      "text/html": [
       "<div>\n",
       "<style scoped>\n",
       "    .dataframe tbody tr th:only-of-type {\n",
       "        vertical-align: middle;\n",
       "    }\n",
       "\n",
       "    .dataframe tbody tr th {\n",
       "        vertical-align: top;\n",
       "    }\n",
       "\n",
       "    .dataframe thead th {\n",
       "        text-align: right;\n",
       "    }\n",
       "</style>\n",
       "<table border=\"1\" class=\"dataframe\">\n",
       "  <thead>\n",
       "    <tr style=\"text-align: right;\">\n",
       "      <th></th>\n",
       "      <th>name</th>\n",
       "      <th>year</th>\n",
       "      <th>price</th>\n",
       "      <th>place</th>\n",
       "      <th>liters</th>\n",
       "      <th>engine</th>\n",
       "      <th>transmission</th>\n",
       "      <th>drivetrain</th>\n",
       "      <th>mileage</th>\n",
       "      <th>new</th>\n",
       "    </tr>\n",
       "  </thead>\n",
       "  <tbody>\n",
       "    <tr>\n",
       "      <th>0</th>\n",
       "      <td>Kia Rio</td>\n",
       "      <td>2019</td>\n",
       "      <td>1330000</td>\n",
       "      <td>Курган</td>\n",
       "      <td>1.4 л (100 л.с.),</td>\n",
       "      <td>бензин,</td>\n",
       "      <td>АКПП,</td>\n",
       "      <td>передний,</td>\n",
       "      <td>37 тыс. км</td>\n",
       "      <td>0</td>\n",
       "    </tr>\n",
       "    <tr>\n",
       "      <th>1</th>\n",
       "      <td>Kia Rio</td>\n",
       "      <td>2015</td>\n",
       "      <td>970000</td>\n",
       "      <td>Екатеринбург</td>\n",
       "      <td>1.6 л (123 л.с.),</td>\n",
       "      <td>бензин,</td>\n",
       "      <td>АКПП,</td>\n",
       "      <td>передний,</td>\n",
       "      <td>108 тыс. км</td>\n",
       "      <td>0</td>\n",
       "    </tr>\n",
       "    <tr>\n",
       "      <th>2</th>\n",
       "      <td>Kia Rio</td>\n",
       "      <td>2017</td>\n",
       "      <td>795000</td>\n",
       "      <td>Армавир</td>\n",
       "      <td>1.4 л (100 л.с.),</td>\n",
       "      <td>бензин,</td>\n",
       "      <td>механика,</td>\n",
       "      <td>передний,</td>\n",
       "      <td>89 тыс. км</td>\n",
       "      <td>0</td>\n",
       "    </tr>\n",
       "    <tr>\n",
       "      <th>3</th>\n",
       "      <td>Kia Rio</td>\n",
       "      <td>2017</td>\n",
       "      <td>1000055</td>\n",
       "      <td>Армавир</td>\n",
       "      <td>1.4 л (107 л.с.),</td>\n",
       "      <td>бензин,</td>\n",
       "      <td>механика,</td>\n",
       "      <td>передний,</td>\n",
       "      <td>93 тыс. км</td>\n",
       "      <td>0</td>\n",
       "    </tr>\n",
       "    <tr>\n",
       "      <th>4</th>\n",
       "      <td>Kia Rio</td>\n",
       "      <td>2001</td>\n",
       "      <td>235000</td>\n",
       "      <td>Курганинск</td>\n",
       "      <td>1.5 л (96 л.с.),</td>\n",
       "      <td>бензин,</td>\n",
       "      <td>АКПП,</td>\n",
       "      <td>передний,</td>\n",
       "      <td>208 тыс. км</td>\n",
       "      <td>0</td>\n",
       "    </tr>\n",
       "  </tbody>\n",
       "</table>\n",
       "</div>"
      ],
      "text/plain": [
       "      name  year    price         place             liters   engine  \\\n",
       "0  Kia Rio  2019  1330000        Курган  1.4 л (100 л.с.),  бензин,   \n",
       "1  Kia Rio  2015   970000  Екатеринбург  1.6 л (123 л.с.),  бензин,   \n",
       "2  Kia Rio  2017   795000       Армавир  1.4 л (100 л.с.),  бензин,   \n",
       "3  Kia Rio  2017  1000055       Армавир  1.4 л (107 л.с.),  бензин,   \n",
       "4  Kia Rio  2001   235000    Курганинск   1.5 л (96 л.с.),  бензин,   \n",
       "\n",
       "  transmission drivetrain      mileage  new  \n",
       "0        АКПП,  передний,   37 тыс. км    0  \n",
       "1        АКПП,  передний,  108 тыс. км    0  \n",
       "2    механика,  передний,   89 тыс. км    0  \n",
       "3    механика,  передний,   93 тыс. км    0  \n",
       "4        АКПП,  передний,  208 тыс. км    0  "
      ]
     },
     "execution_count": 3,
     "metadata": {},
     "output_type": "execute_result"
    }
   ],
   "source": [
    "df.head()"
   ]
  },
  {
   "cell_type": "code",
   "execution_count": 4,
   "id": "f21c1e43",
   "metadata": {},
   "outputs": [
    {
     "data": {
      "text/plain": [
       "(16577, 10)"
      ]
     },
     "execution_count": 4,
     "metadata": {},
     "output_type": "execute_result"
    }
   ],
   "source": [
    "df.shape"
   ]
  },
  {
   "cell_type": "code",
   "execution_count": 5,
   "id": "b69ce2c9",
   "metadata": {},
   "outputs": [
    {
     "data": {
      "text/html": [
       "<div>\n",
       "<style scoped>\n",
       "    .dataframe tbody tr th:only-of-type {\n",
       "        vertical-align: middle;\n",
       "    }\n",
       "\n",
       "    .dataframe tbody tr th {\n",
       "        vertical-align: top;\n",
       "    }\n",
       "\n",
       "    .dataframe thead th {\n",
       "        text-align: right;\n",
       "    }\n",
       "</style>\n",
       "<table border=\"1\" class=\"dataframe\">\n",
       "  <thead>\n",
       "    <tr style=\"text-align: right;\">\n",
       "      <th></th>\n",
       "      <th>year</th>\n",
       "      <th>price</th>\n",
       "      <th>new</th>\n",
       "    </tr>\n",
       "  </thead>\n",
       "  <tbody>\n",
       "    <tr>\n",
       "      <th>count</th>\n",
       "      <td>16577.000000</td>\n",
       "      <td>1.657700e+04</td>\n",
       "      <td>16577.000000</td>\n",
       "    </tr>\n",
       "    <tr>\n",
       "      <th>mean</th>\n",
       "      <td>2017.164988</td>\n",
       "      <td>1.923094e+06</td>\n",
       "      <td>0.217651</td>\n",
       "    </tr>\n",
       "    <tr>\n",
       "      <th>std</th>\n",
       "      <td>5.100142</td>\n",
       "      <td>1.206217e+06</td>\n",
       "      <td>0.412661</td>\n",
       "    </tr>\n",
       "    <tr>\n",
       "      <th>min</th>\n",
       "      <td>1992.000000</td>\n",
       "      <td>7.500000e+04</td>\n",
       "      <td>0.000000</td>\n",
       "    </tr>\n",
       "    <tr>\n",
       "      <th>25%</th>\n",
       "      <td>2014.000000</td>\n",
       "      <td>1.000000e+06</td>\n",
       "      <td>0.000000</td>\n",
       "    </tr>\n",
       "    <tr>\n",
       "      <th>50%</th>\n",
       "      <td>2019.000000</td>\n",
       "      <td>1.729789e+06</td>\n",
       "      <td>0.000000</td>\n",
       "    </tr>\n",
       "    <tr>\n",
       "      <th>75%</th>\n",
       "      <td>2022.000000</td>\n",
       "      <td>2.529900e+06</td>\n",
       "      <td>0.000000</td>\n",
       "    </tr>\n",
       "    <tr>\n",
       "      <th>max</th>\n",
       "      <td>2023.000000</td>\n",
       "      <td>8.999000e+06</td>\n",
       "      <td>1.000000</td>\n",
       "    </tr>\n",
       "  </tbody>\n",
       "</table>\n",
       "</div>"
      ],
      "text/plain": [
       "               year         price           new\n",
       "count  16577.000000  1.657700e+04  16577.000000\n",
       "mean    2017.164988  1.923094e+06      0.217651\n",
       "std        5.100142  1.206217e+06      0.412661\n",
       "min     1992.000000  7.500000e+04      0.000000\n",
       "25%     2014.000000  1.000000e+06      0.000000\n",
       "50%     2019.000000  1.729789e+06      0.000000\n",
       "75%     2022.000000  2.529900e+06      0.000000\n",
       "max     2023.000000  8.999000e+06      1.000000"
      ]
     },
     "execution_count": 5,
     "metadata": {},
     "output_type": "execute_result"
    }
   ],
   "source": [
    "df.describe()"
   ]
  },
  {
   "cell_type": "code",
   "execution_count": 6,
   "id": "cad56244",
   "metadata": {},
   "outputs": [
    {
     "data": {
      "text/plain": [
       "array(['Kia Rio', 'Kia Sportage', 'Kia Ceed', 'Kia Sorento', 'Kia Cerato',\n",
       "       'Kia K5', 'Kia Optima', 'Kia Soul', 'Kia Rio X (X-Line)',\n",
       "       'Kia Seltos', 'Kia Picanto', 'Kia Spectra', 'Kia Carnival',\n",
       "       'Kia Mohave', 'Kia Stinger', 'Kia Magentis', 'Kia Venga',\n",
       "       'Kia ProCeed', 'Kia Carens', 'Kia Forte'], dtype=object)"
      ]
     },
     "execution_count": 6,
     "metadata": {},
     "output_type": "execute_result"
    }
   ],
   "source": [
    "df.name.unique()"
   ]
  },
  {
   "cell_type": "code",
   "execution_count": 7,
   "id": "2af77dfb",
   "metadata": {},
   "outputs": [],
   "source": [
    "df['liters'] = df['liters'].apply(lambda x: x.replace(',', ''))\n",
    "df['engine'] = df['engine'].apply(lambda x: x.replace(',', ''))\n",
    "df['transmission'] = df['transmission'].apply(lambda x: x.replace(',', ''))\n",
    "df['drivetrain'] = df['drivetrain'].apply(lambda x: x.replace(',', ''))"
   ]
  },
  {
   "cell_type": "code",
   "execution_count": 8,
   "id": "40cc53ba",
   "metadata": {},
   "outputs": [
    {
     "data": {
      "text/html": [
       "<div>\n",
       "<style scoped>\n",
       "    .dataframe tbody tr th:only-of-type {\n",
       "        vertical-align: middle;\n",
       "    }\n",
       "\n",
       "    .dataframe tbody tr th {\n",
       "        vertical-align: top;\n",
       "    }\n",
       "\n",
       "    .dataframe thead th {\n",
       "        text-align: right;\n",
       "    }\n",
       "</style>\n",
       "<table border=\"1\" class=\"dataframe\">\n",
       "  <thead>\n",
       "    <tr style=\"text-align: right;\">\n",
       "      <th></th>\n",
       "      <th>name</th>\n",
       "      <th>year</th>\n",
       "      <th>price</th>\n",
       "      <th>place</th>\n",
       "      <th>liters</th>\n",
       "      <th>engine</th>\n",
       "      <th>transmission</th>\n",
       "      <th>drivetrain</th>\n",
       "      <th>mileage</th>\n",
       "      <th>new</th>\n",
       "    </tr>\n",
       "  </thead>\n",
       "  <tbody>\n",
       "    <tr>\n",
       "      <th>0</th>\n",
       "      <td>Kia Rio</td>\n",
       "      <td>2019</td>\n",
       "      <td>1330000</td>\n",
       "      <td>Курган</td>\n",
       "      <td>1.4 л (100 л.с.)</td>\n",
       "      <td>бензин</td>\n",
       "      <td>АКПП</td>\n",
       "      <td>передний</td>\n",
       "      <td>37 тыс. км</td>\n",
       "      <td>0</td>\n",
       "    </tr>\n",
       "    <tr>\n",
       "      <th>1</th>\n",
       "      <td>Kia Rio</td>\n",
       "      <td>2015</td>\n",
       "      <td>970000</td>\n",
       "      <td>Екатеринбург</td>\n",
       "      <td>1.6 л (123 л.с.)</td>\n",
       "      <td>бензин</td>\n",
       "      <td>АКПП</td>\n",
       "      <td>передний</td>\n",
       "      <td>108 тыс. км</td>\n",
       "      <td>0</td>\n",
       "    </tr>\n",
       "  </tbody>\n",
       "</table>\n",
       "</div>"
      ],
      "text/plain": [
       "      name  year    price         place            liters  engine  \\\n",
       "0  Kia Rio  2019  1330000        Курган  1.4 л (100 л.с.)  бензин   \n",
       "1  Kia Rio  2015   970000  Екатеринбург  1.6 л (123 л.с.)  бензин   \n",
       "\n",
       "  transmission drivetrain      mileage  new  \n",
       "0         АКПП   передний   37 тыс. км    0  \n",
       "1         АКПП   передний  108 тыс. км    0  "
      ]
     },
     "execution_count": 8,
     "metadata": {},
     "output_type": "execute_result"
    }
   ],
   "source": [
    "df[:2]"
   ]
  },
  {
   "cell_type": "code",
   "execution_count": 9,
   "id": "ae88aa7e",
   "metadata": {},
   "outputs": [],
   "source": [
    "df['hp'] = df['liters'].apply(lambda x: x.strip().split()[-2][1:])"
   ]
  },
  {
   "cell_type": "code",
   "execution_count": 10,
   "id": "a57a6970",
   "metadata": {},
   "outputs": [
    {
     "data": {
      "text/html": [
       "<div>\n",
       "<style scoped>\n",
       "    .dataframe tbody tr th:only-of-type {\n",
       "        vertical-align: middle;\n",
       "    }\n",
       "\n",
       "    .dataframe tbody tr th {\n",
       "        vertical-align: top;\n",
       "    }\n",
       "\n",
       "    .dataframe thead th {\n",
       "        text-align: right;\n",
       "    }\n",
       "</style>\n",
       "<table border=\"1\" class=\"dataframe\">\n",
       "  <thead>\n",
       "    <tr style=\"text-align: right;\">\n",
       "      <th></th>\n",
       "      <th>name</th>\n",
       "      <th>year</th>\n",
       "      <th>price</th>\n",
       "      <th>place</th>\n",
       "      <th>liters</th>\n",
       "      <th>engine</th>\n",
       "      <th>transmission</th>\n",
       "      <th>drivetrain</th>\n",
       "      <th>mileage</th>\n",
       "      <th>new</th>\n",
       "      <th>hp</th>\n",
       "    </tr>\n",
       "  </thead>\n",
       "  <tbody>\n",
       "    <tr>\n",
       "      <th>156</th>\n",
       "      <td>Kia Rio</td>\n",
       "      <td>2017</td>\n",
       "      <td>1149000</td>\n",
       "      <td>Москва</td>\n",
       "      <td>1.6 л</td>\n",
       "      <td>бензин</td>\n",
       "      <td>передний</td>\n",
       "      <td>72 тыс. км</td>\n",
       "      <td>0</td>\n",
       "      <td>0</td>\n",
       "      <td>.6</td>\n",
       "    </tr>\n",
       "    <tr>\n",
       "      <th>220</th>\n",
       "      <td>Kia Rio</td>\n",
       "      <td>2018</td>\n",
       "      <td>1305000</td>\n",
       "      <td>Саранск</td>\n",
       "      <td>1.6 л</td>\n",
       "      <td>бензин</td>\n",
       "      <td>автомат</td>\n",
       "      <td>передний</td>\n",
       "      <td>64 тыс. км</td>\n",
       "      <td>0</td>\n",
       "      <td>.6</td>\n",
       "    </tr>\n",
       "    <tr>\n",
       "      <th>385</th>\n",
       "      <td>Kia Rio</td>\n",
       "      <td>2012</td>\n",
       "      <td>750000</td>\n",
       "      <td>Москва</td>\n",
       "      <td>1.6 л</td>\n",
       "      <td>бензин</td>\n",
       "      <td>передний</td>\n",
       "      <td>162 тыс. км</td>\n",
       "      <td>0</td>\n",
       "      <td>0</td>\n",
       "      <td>.6</td>\n",
       "    </tr>\n",
       "  </tbody>\n",
       "</table>\n",
       "</div>"
      ],
      "text/plain": [
       "        name  year    price    place liters  engine transmission   drivetrain  \\\n",
       "156  Kia Rio  2017  1149000   Москва  1.6 л  бензин     передний   72 тыс. км   \n",
       "220  Kia Rio  2018  1305000  Саранск  1.6 л  бензин      автомат     передний   \n",
       "385  Kia Rio  2012   750000   Москва  1.6 л  бензин     передний  162 тыс. км   \n",
       "\n",
       "        mileage  new  hp  \n",
       "156           0    0  .6  \n",
       "220  64 тыс. км    0  .6  \n",
       "385           0    0  .6  "
      ]
     },
     "execution_count": 10,
     "metadata": {},
     "output_type": "execute_result"
    }
   ],
   "source": [
    "#Нет данных о 'hp'.\n",
    "df[df['hp'].str.startswith('.')][:3]"
   ]
  },
  {
   "cell_type": "code",
   "execution_count": 11,
   "id": "babea313",
   "metadata": {},
   "outputs": [
    {
     "data": {
      "text/plain": [
       "192"
      ]
     },
     "execution_count": 11,
     "metadata": {},
     "output_type": "execute_result"
    }
   ],
   "source": [
    "#Нет данных о hp всего у 192, поэтому будет легче и логичнее их дропнуть, чем пытаться заполнить пропуски\n",
    "df[df['hp'].str.startswith('.')].hp.count()"
   ]
  },
  {
   "cell_type": "code",
   "execution_count": 12,
   "id": "a3809164",
   "metadata": {},
   "outputs": [],
   "source": [
    "df = df[~df['hp'].str.startswith('.')]"
   ]
  },
  {
   "cell_type": "code",
   "execution_count": 13,
   "id": "d7503786",
   "metadata": {},
   "outputs": [
    {
     "data": {
      "text/html": [
       "<div>\n",
       "<style scoped>\n",
       "    .dataframe tbody tr th:only-of-type {\n",
       "        vertical-align: middle;\n",
       "    }\n",
       "\n",
       "    .dataframe tbody tr th {\n",
       "        vertical-align: top;\n",
       "    }\n",
       "\n",
       "    .dataframe thead th {\n",
       "        text-align: right;\n",
       "    }\n",
       "</style>\n",
       "<table border=\"1\" class=\"dataframe\">\n",
       "  <thead>\n",
       "    <tr style=\"text-align: right;\">\n",
       "      <th></th>\n",
       "      <th>name</th>\n",
       "      <th>year</th>\n",
       "      <th>price</th>\n",
       "      <th>place</th>\n",
       "      <th>liters</th>\n",
       "      <th>engine</th>\n",
       "      <th>transmission</th>\n",
       "      <th>drivetrain</th>\n",
       "      <th>mileage</th>\n",
       "      <th>new</th>\n",
       "      <th>hp</th>\n",
       "    </tr>\n",
       "  </thead>\n",
       "  <tbody>\n",
       "    <tr>\n",
       "      <th>0</th>\n",
       "      <td>Kia Rio</td>\n",
       "      <td>2019</td>\n",
       "      <td>1330000</td>\n",
       "      <td>Курган</td>\n",
       "      <td>1.4 л (100 л.с.)</td>\n",
       "      <td>бензин</td>\n",
       "      <td>АКПП</td>\n",
       "      <td>передний</td>\n",
       "      <td>37 тыс. км</td>\n",
       "      <td>0</td>\n",
       "      <td>100</td>\n",
       "    </tr>\n",
       "    <tr>\n",
       "      <th>1</th>\n",
       "      <td>Kia Rio</td>\n",
       "      <td>2015</td>\n",
       "      <td>970000</td>\n",
       "      <td>Екатеринбург</td>\n",
       "      <td>1.6 л (123 л.с.)</td>\n",
       "      <td>бензин</td>\n",
       "      <td>АКПП</td>\n",
       "      <td>передний</td>\n",
       "      <td>108 тыс. км</td>\n",
       "      <td>0</td>\n",
       "      <td>123</td>\n",
       "    </tr>\n",
       "  </tbody>\n",
       "</table>\n",
       "</div>"
      ],
      "text/plain": [
       "      name  year    price         place            liters  engine  \\\n",
       "0  Kia Rio  2019  1330000        Курган  1.4 л (100 л.с.)  бензин   \n",
       "1  Kia Rio  2015   970000  Екатеринбург  1.6 л (123 л.с.)  бензин   \n",
       "\n",
       "  transmission drivetrain      mileage  new   hp  \n",
       "0         АКПП   передний   37 тыс. км    0  100  \n",
       "1         АКПП   передний  108 тыс. км    0  123  "
      ]
     },
     "execution_count": 13,
     "metadata": {},
     "output_type": "execute_result"
    }
   ],
   "source": [
    "df[:2]"
   ]
  },
  {
   "cell_type": "code",
   "execution_count": 14,
   "id": "b45ea51b",
   "metadata": {},
   "outputs": [],
   "source": [
    "df['liters'] = df.liters.apply(lambda x: x.split()[0])"
   ]
  },
  {
   "cell_type": "code",
   "execution_count": 15,
   "id": "c2c8f12f",
   "metadata": {},
   "outputs": [
    {
     "data": {
      "text/plain": [
       "array(['1.4', '1.6', '1.5', '1.3', '2.0', '2.4', '2.7', '2.5', '1.7',\n",
       "       '2.2', '3.5', '3.3', '3.8', '145', '1.8', '110', '200', '122',\n",
       "       '1.2', '1.0', '1.1', '2.9', '3.0', '140', '2.6'], dtype=object)"
      ]
     },
     "execution_count": 15,
     "metadata": {},
     "output_type": "execute_result"
    }
   ],
   "source": [
    "#Из-за неточностях в данных у нас нет литража у некоторых объектов, поэтому здесь оказалась у некоторых\n",
    "#объектов скорость\n",
    "df.liters.unique()"
   ]
  },
  {
   "cell_type": "code",
   "execution_count": 16,
   "id": "d1d96e60",
   "metadata": {},
   "outputs": [],
   "source": [
    "df['liters'] = df.liters.astype(float)"
   ]
  },
  {
   "cell_type": "code",
   "execution_count": 17,
   "id": "1627507d",
   "metadata": {},
   "outputs": [
    {
     "data": {
      "text/html": [
       "<div>\n",
       "<style scoped>\n",
       "    .dataframe tbody tr th:only-of-type {\n",
       "        vertical-align: middle;\n",
       "    }\n",
       "\n",
       "    .dataframe tbody tr th {\n",
       "        vertical-align: top;\n",
       "    }\n",
       "\n",
       "    .dataframe thead th {\n",
       "        text-align: right;\n",
       "    }\n",
       "</style>\n",
       "<table border=\"1\" class=\"dataframe\">\n",
       "  <thead>\n",
       "    <tr style=\"text-align: right;\">\n",
       "      <th></th>\n",
       "      <th>name</th>\n",
       "      <th>year</th>\n",
       "      <th>price</th>\n",
       "      <th>place</th>\n",
       "      <th>liters</th>\n",
       "      <th>engine</th>\n",
       "      <th>transmission</th>\n",
       "      <th>drivetrain</th>\n",
       "      <th>mileage</th>\n",
       "      <th>new</th>\n",
       "      <th>hp</th>\n",
       "    </tr>\n",
       "  </thead>\n",
       "  <tbody>\n",
       "    <tr>\n",
       "      <th>6553</th>\n",
       "      <td>Kia Sorento</td>\n",
       "      <td>2008</td>\n",
       "      <td>750000</td>\n",
       "      <td>Чита</td>\n",
       "      <td>145.0</td>\n",
       "      <td>дизель</td>\n",
       "      <td>автомат</td>\n",
       "      <td>4WD</td>\n",
       "      <td>170 тыс. км</td>\n",
       "      <td>0</td>\n",
       "      <td>45</td>\n",
       "    </tr>\n",
       "    <tr>\n",
       "      <th>12214</th>\n",
       "      <td>Kia Soul</td>\n",
       "      <td>2017</td>\n",
       "      <td>1300000</td>\n",
       "      <td>Верещагино</td>\n",
       "      <td>110.0</td>\n",
       "      <td>электро</td>\n",
       "      <td>АКПП</td>\n",
       "      <td>передний</td>\n",
       "      <td>150 тыс. км</td>\n",
       "      <td>0</td>\n",
       "      <td>10</td>\n",
       "    </tr>\n",
       "    <tr>\n",
       "      <th>12271</th>\n",
       "      <td>Kia Soul</td>\n",
       "      <td>2018</td>\n",
       "      <td>1750000</td>\n",
       "      <td>Москва</td>\n",
       "      <td>110.0</td>\n",
       "      <td>электро</td>\n",
       "      <td>автомат</td>\n",
       "      <td>передний</td>\n",
       "      <td>66 тыс. км</td>\n",
       "      <td>0</td>\n",
       "      <td>10</td>\n",
       "    </tr>\n",
       "    <tr>\n",
       "      <th>12615</th>\n",
       "      <td>Kia Soul</td>\n",
       "      <td>2019</td>\n",
       "      <td>2260000</td>\n",
       "      <td>Корея → Хабаровск</td>\n",
       "      <td>200.0</td>\n",
       "      <td>электро</td>\n",
       "      <td>автомат</td>\n",
       "      <td>передний</td>\n",
       "      <td>90 тыс. км</td>\n",
       "      <td>0</td>\n",
       "      <td>00</td>\n",
       "    </tr>\n",
       "    <tr>\n",
       "      <th>13146</th>\n",
       "      <td>Kia Rio X (X-Line)</td>\n",
       "      <td>2020</td>\n",
       "      <td>1430000</td>\n",
       "      <td>Новокузнецк</td>\n",
       "      <td>122.0</td>\n",
       "      <td>автомат</td>\n",
       "      <td>передний</td>\n",
       "      <td>29 тыс. км</td>\n",
       "      <td>0</td>\n",
       "      <td>0</td>\n",
       "      <td>22</td>\n",
       "    </tr>\n",
       "    <tr>\n",
       "      <th>16412</th>\n",
       "      <td>Kia ProCeed</td>\n",
       "      <td>2019</td>\n",
       "      <td>1780000</td>\n",
       "      <td>Иркутск</td>\n",
       "      <td>140.0</td>\n",
       "      <td>бензин</td>\n",
       "      <td>АКПП</td>\n",
       "      <td>передний</td>\n",
       "      <td>48 тыс. км</td>\n",
       "      <td>0</td>\n",
       "      <td>40</td>\n",
       "    </tr>\n",
       "    <tr>\n",
       "      <th>16449</th>\n",
       "      <td>Kia ProCeed</td>\n",
       "      <td>2019</td>\n",
       "      <td>1900000</td>\n",
       "      <td>Тюмень</td>\n",
       "      <td>140.0</td>\n",
       "      <td>бензин</td>\n",
       "      <td>АКПП</td>\n",
       "      <td>передний</td>\n",
       "      <td>39 тыс. км</td>\n",
       "      <td>0</td>\n",
       "      <td>40</td>\n",
       "    </tr>\n",
       "  </tbody>\n",
       "</table>\n",
       "</div>"
      ],
      "text/plain": [
       "                     name  year    price              place  liters   engine  \\\n",
       "6553          Kia Sorento  2008   750000               Чита   145.0   дизель   \n",
       "12214            Kia Soul  2017  1300000         Верещагино   110.0  электро   \n",
       "12271            Kia Soul  2018  1750000             Москва   110.0  электро   \n",
       "12615            Kia Soul  2019  2260000  Корея → Хабаровск   200.0  электро   \n",
       "13146  Kia Rio X (X-Line)  2020  1430000        Новокузнецк   122.0  автомат   \n",
       "16412         Kia ProCeed  2019  1780000            Иркутск   140.0   бензин   \n",
       "16449         Kia ProCeed  2019  1900000             Тюмень   140.0   бензин   \n",
       "\n",
       "      transmission  drivetrain      mileage  new  hp  \n",
       "6553       автомат         4WD  170 тыс. км    0  45  \n",
       "12214         АКПП    передний  150 тыс. км    0  10  \n",
       "12271      автомат    передний   66 тыс. км    0  10  \n",
       "12615      автомат    передний   90 тыс. км    0  00  \n",
       "13146     передний  29 тыс. км            0    0  22  \n",
       "16412         АКПП    передний   48 тыс. км    0  40  \n",
       "16449         АКПП    передний   39 тыс. км    0  40  "
      ]
     },
     "execution_count": 17,
     "metadata": {},
     "output_type": "execute_result"
    }
   ],
   "source": [
    "df[df.liters > 50]\n",
    "#Аналогично просто удалим эти объекты"
   ]
  },
  {
   "cell_type": "code",
   "execution_count": 18,
   "id": "10ce1c7c",
   "metadata": {},
   "outputs": [],
   "source": [
    "df = df[df.liters < 50]"
   ]
  },
  {
   "cell_type": "code",
   "execution_count": 19,
   "id": "6c2155c4",
   "metadata": {},
   "outputs": [
    {
     "name": "stdout",
     "output_type": "stream",
     "text": [
      "<class 'pandas.core.frame.DataFrame'>\n",
      "Int64Index: 16378 entries, 0 to 16576\n",
      "Data columns (total 11 columns):\n",
      " #   Column        Non-Null Count  Dtype  \n",
      "---  ------        --------------  -----  \n",
      " 0   name          16378 non-null  object \n",
      " 1   year          16378 non-null  int64  \n",
      " 2   price         16378 non-null  int64  \n",
      " 3   place         16378 non-null  object \n",
      " 4   liters        16378 non-null  float64\n",
      " 5   engine        16378 non-null  object \n",
      " 6   transmission  16378 non-null  object \n",
      " 7   drivetrain    16378 non-null  object \n",
      " 8   mileage       16378 non-null  object \n",
      " 9   new           16378 non-null  int64  \n",
      " 10  hp            16378 non-null  object \n",
      "dtypes: float64(1), int64(3), object(7)\n",
      "memory usage: 1.5+ MB\n"
     ]
    }
   ],
   "source": [
    "df.info()"
   ]
  },
  {
   "cell_type": "code",
   "execution_count": 20,
   "id": "75361474",
   "metadata": {},
   "outputs": [
    {
     "data": {
      "text/plain": [
       "array(['АКПП', 'механика', 'автомат', 'робот', '4WD', 'передний',\n",
       "       'вариатор'], dtype=object)"
      ]
     },
     "execution_count": 20,
     "metadata": {},
     "output_type": "execute_result"
    }
   ],
   "source": [
    "df.transmission.unique()\n",
    "#Заменим АКПП на автомат и решим проблему с 'передний'"
   ]
  },
  {
   "cell_type": "code",
   "execution_count": 21,
   "id": "3ac2b147",
   "metadata": {},
   "outputs": [],
   "source": [
    "df.transmission.replace({'АКПП': 'автомат'}, inplace=True)"
   ]
  },
  {
   "cell_type": "code",
   "execution_count": 22,
   "id": "181a8392",
   "metadata": {},
   "outputs": [
    {
     "data": {
      "text/html": [
       "<div>\n",
       "<style scoped>\n",
       "    .dataframe tbody tr th:only-of-type {\n",
       "        vertical-align: middle;\n",
       "    }\n",
       "\n",
       "    .dataframe tbody tr th {\n",
       "        vertical-align: top;\n",
       "    }\n",
       "\n",
       "    .dataframe thead th {\n",
       "        text-align: right;\n",
       "    }\n",
       "</style>\n",
       "<table border=\"1\" class=\"dataframe\">\n",
       "  <thead>\n",
       "    <tr style=\"text-align: right;\">\n",
       "      <th></th>\n",
       "      <th>name</th>\n",
       "      <th>year</th>\n",
       "      <th>price</th>\n",
       "      <th>place</th>\n",
       "      <th>liters</th>\n",
       "      <th>engine</th>\n",
       "      <th>transmission</th>\n",
       "      <th>drivetrain</th>\n",
       "      <th>mileage</th>\n",
       "      <th>new</th>\n",
       "      <th>hp</th>\n",
       "    </tr>\n",
       "  </thead>\n",
       "  <tbody>\n",
       "    <tr>\n",
       "      <th>2352</th>\n",
       "      <td>Kia Sportage</td>\n",
       "      <td>2022</td>\n",
       "      <td>3373076</td>\n",
       "      <td>Москва</td>\n",
       "      <td>2.0</td>\n",
       "      <td>бензин</td>\n",
       "      <td>передний</td>\n",
       "      <td>красный</td>\n",
       "      <td>0</td>\n",
       "      <td>1</td>\n",
       "      <td>150</td>\n",
       "    </tr>\n",
       "    <tr>\n",
       "      <th>9059</th>\n",
       "      <td>Kia K5</td>\n",
       "      <td>2021</td>\n",
       "      <td>2424000</td>\n",
       "      <td>Москва</td>\n",
       "      <td>2.0</td>\n",
       "      <td>АКПП</td>\n",
       "      <td>передний</td>\n",
       "      <td>10 тыс. км</td>\n",
       "      <td>0</td>\n",
       "      <td>0</td>\n",
       "      <td>146</td>\n",
       "    </tr>\n",
       "    <tr>\n",
       "      <th>9090</th>\n",
       "      <td>Kia K5</td>\n",
       "      <td>2019</td>\n",
       "      <td>1350000</td>\n",
       "      <td>Владивосток</td>\n",
       "      <td>2.0</td>\n",
       "      <td>АКПП</td>\n",
       "      <td>передний</td>\n",
       "      <td>143 тыс. км</td>\n",
       "      <td>0</td>\n",
       "      <td>0</td>\n",
       "      <td>151</td>\n",
       "    </tr>\n",
       "    <tr>\n",
       "      <th>9482</th>\n",
       "      <td>Kia K5</td>\n",
       "      <td>2014</td>\n",
       "      <td>1320000</td>\n",
       "      <td>Горно-Алтайск</td>\n",
       "      <td>2.0</td>\n",
       "      <td>АКПП</td>\n",
       "      <td>передний</td>\n",
       "      <td>&lt; 1 тыс. км</td>\n",
       "      <td>0</td>\n",
       "      <td>0</td>\n",
       "      <td>157</td>\n",
       "    </tr>\n",
       "    <tr>\n",
       "      <th>9504</th>\n",
       "      <td>Kia K5</td>\n",
       "      <td>2019</td>\n",
       "      <td>1650000</td>\n",
       "      <td>Казань</td>\n",
       "      <td>2.0</td>\n",
       "      <td>автомат</td>\n",
       "      <td>передний</td>\n",
       "      <td>105 тыс. км</td>\n",
       "      <td>0</td>\n",
       "      <td>0</td>\n",
       "      <td>2</td>\n",
       "    </tr>\n",
       "  </tbody>\n",
       "</table>\n",
       "</div>"
      ],
      "text/plain": [
       "              name  year    price          place  liters   engine  \\\n",
       "2352  Kia Sportage  2022  3373076         Москва     2.0   бензин   \n",
       "9059        Kia K5  2021  2424000         Москва     2.0     АКПП   \n",
       "9090        Kia K5  2019  1350000    Владивосток     2.0     АКПП   \n",
       "9482        Kia K5  2014  1320000  Горно-Алтайск     2.0     АКПП   \n",
       "9504        Kia K5  2019  1650000         Казань     2.0  автомат   \n",
       "\n",
       "     transmission   drivetrain mileage  new   hp  \n",
       "2352     передний      красный       0    1  150  \n",
       "9059     передний   10 тыс. км       0    0  146  \n",
       "9090     передний  143 тыс. км       0    0  151  \n",
       "9482     передний  < 1 тыс. км       0    0  157  \n",
       "9504     передний  105 тыс. км       0    0    2  "
      ]
     },
     "execution_count": 22,
     "metadata": {},
     "output_type": "execute_result"
    }
   ],
   "source": [
    "df[df.transmission == 'передний'].head()\n",
    "#df[df.transmission == 'передний'] - 19 объектов\n",
    "#Видимо были какие-то ошибки при парсинге или же некорректно данные были предоставлены на сайте, поэтому \n",
    "#стоит удалить эти объекты"
   ]
  },
  {
   "cell_type": "code",
   "execution_count": 23,
   "id": "9481972a",
   "metadata": {},
   "outputs": [],
   "source": [
    "df = df[df.transmission != 'передний']"
   ]
  },
  {
   "cell_type": "code",
   "execution_count": 24,
   "id": "0d3348aa",
   "metadata": {},
   "outputs": [
    {
     "data": {
      "text/plain": [
       "array(['передний', '4WD', '213 тыс. км', 'задний', '165 тыс. км',\n",
       "       '69 тыс. км', '\\xa0синий', '\\xa0белый', '136 тыс. км'],\n",
       "      dtype=object)"
      ]
     },
     "execution_count": 24,
     "metadata": {},
     "output_type": "execute_result"
    }
   ],
   "source": [
    "df.drivetrain.unique()"
   ]
  },
  {
   "cell_type": "code",
   "execution_count": 25,
   "id": "3bb66447",
   "metadata": {},
   "outputs": [
    {
     "data": {
      "text/html": [
       "<div>\n",
       "<style scoped>\n",
       "    .dataframe tbody tr th:only-of-type {\n",
       "        vertical-align: middle;\n",
       "    }\n",
       "\n",
       "    .dataframe tbody tr th {\n",
       "        vertical-align: top;\n",
       "    }\n",
       "\n",
       "    .dataframe thead th {\n",
       "        text-align: right;\n",
       "    }\n",
       "</style>\n",
       "<table border=\"1\" class=\"dataframe\">\n",
       "  <thead>\n",
       "    <tr style=\"text-align: right;\">\n",
       "      <th></th>\n",
       "      <th>name</th>\n",
       "      <th>year</th>\n",
       "      <th>price</th>\n",
       "      <th>place</th>\n",
       "      <th>liters</th>\n",
       "      <th>engine</th>\n",
       "      <th>transmission</th>\n",
       "      <th>drivetrain</th>\n",
       "      <th>mileage</th>\n",
       "      <th>new</th>\n",
       "      <th>hp</th>\n",
       "    </tr>\n",
       "  </thead>\n",
       "  <tbody>\n",
       "    <tr>\n",
       "      <th>2328</th>\n",
       "      <td>Kia Sportage</td>\n",
       "      <td>2005</td>\n",
       "      <td>719000</td>\n",
       "      <td>Барнаул</td>\n",
       "      <td>2.7</td>\n",
       "      <td>бензин</td>\n",
       "      <td>4WD</td>\n",
       "      <td>213 тыс. км</td>\n",
       "      <td>0</td>\n",
       "      <td>0</td>\n",
       "      <td>175</td>\n",
       "    </tr>\n",
       "    <tr>\n",
       "      <th>7180</th>\n",
       "      <td>Kia Sorento</td>\n",
       "      <td>2014</td>\n",
       "      <td>1800000</td>\n",
       "      <td>Исетское</td>\n",
       "      <td>2.4</td>\n",
       "      <td>механика</td>\n",
       "      <td>4WD</td>\n",
       "      <td>165 тыс. км</td>\n",
       "      <td>0</td>\n",
       "      <td>0</td>\n",
       "      <td>174</td>\n",
       "    </tr>\n",
       "    <tr>\n",
       "      <th>9175</th>\n",
       "      <td>Kia K5</td>\n",
       "      <td>2016</td>\n",
       "      <td>1850000</td>\n",
       "      <td>Астрахань</td>\n",
       "      <td>2.4</td>\n",
       "      <td>бензин</td>\n",
       "      <td>автомат</td>\n",
       "      <td>69 тыс. км</td>\n",
       "      <td>0</td>\n",
       "      <td>0</td>\n",
       "      <td>185</td>\n",
       "    </tr>\n",
       "    <tr>\n",
       "      <th>13401</th>\n",
       "      <td>Kia Seltos</td>\n",
       "      <td>2022</td>\n",
       "      <td>2418227</td>\n",
       "      <td>Москва</td>\n",
       "      <td>1.6</td>\n",
       "      <td>бензин</td>\n",
       "      <td>4WD</td>\n",
       "      <td>синий</td>\n",
       "      <td>0</td>\n",
       "      <td>1</td>\n",
       "      <td>123</td>\n",
       "    </tr>\n",
       "    <tr>\n",
       "      <th>13702</th>\n",
       "      <td>Kia Seltos</td>\n",
       "      <td>2022</td>\n",
       "      <td>2468227</td>\n",
       "      <td>Москва</td>\n",
       "      <td>1.6</td>\n",
       "      <td>бензин</td>\n",
       "      <td>4WD</td>\n",
       "      <td>белый</td>\n",
       "      <td>0</td>\n",
       "      <td>1</td>\n",
       "      <td>123</td>\n",
       "    </tr>\n",
       "    <tr>\n",
       "      <th>14849</th>\n",
       "      <td>Kia Spectra</td>\n",
       "      <td>2011</td>\n",
       "      <td>355000</td>\n",
       "      <td>Красноярск</td>\n",
       "      <td>1.5</td>\n",
       "      <td>бензин</td>\n",
       "      <td>механика</td>\n",
       "      <td>136 тыс. км</td>\n",
       "      <td>0</td>\n",
       "      <td>0</td>\n",
       "      <td>101</td>\n",
       "    </tr>\n",
       "  </tbody>\n",
       "</table>\n",
       "</div>"
      ],
      "text/plain": [
       "               name  year    price       place  liters    engine transmission  \\\n",
       "2328   Kia Sportage  2005   719000     Барнаул     2.7    бензин          4WD   \n",
       "7180    Kia Sorento  2014  1800000    Исетское     2.4  механика          4WD   \n",
       "9175         Kia K5  2016  1850000   Астрахань     2.4    бензин      автомат   \n",
       "13401    Kia Seltos  2022  2418227      Москва     1.6    бензин          4WD   \n",
       "13702    Kia Seltos  2022  2468227      Москва     1.6    бензин          4WD   \n",
       "14849   Kia Spectra  2011   355000  Красноярск     1.5    бензин     механика   \n",
       "\n",
       "        drivetrain mileage  new   hp  \n",
       "2328   213 тыс. км       0    0  175  \n",
       "7180   165 тыс. км       0    0  174  \n",
       "9175    69 тыс. км       0    0  185  \n",
       "13401        синий       0    1  123  \n",
       "13702        белый       0    1  123  \n",
       "14849  136 тыс. км       0    0  101  "
      ]
     },
     "execution_count": 25,
     "metadata": {},
     "output_type": "execute_result"
    }
   ],
   "source": [
    "df[(df.drivetrain != 'передний') & (df.drivetrain != 'задний') & (df.drivetrain != '4WD')]\n",
    "#Аналогично удалим незначительную часть объектов"
   ]
  },
  {
   "cell_type": "code",
   "execution_count": 26,
   "id": "55da510e",
   "metadata": {},
   "outputs": [],
   "source": [
    "df = df[(df.drivetrain == 'передний') | (df.drivetrain == 'задний') | (df.drivetrain == '4WD')]"
   ]
  },
  {
   "cell_type": "code",
   "execution_count": 27,
   "id": "cc0a9533",
   "metadata": {},
   "outputs": [
    {
     "data": {
      "text/plain": [
       "array(['бензин', 'дизель', 'гибрид'], dtype=object)"
      ]
     },
     "execution_count": 27,
     "metadata": {},
     "output_type": "execute_result"
    }
   ],
   "source": [
    "df.engine.unique()"
   ]
  },
  {
   "cell_type": "code",
   "execution_count": 28,
   "id": "7f02272b",
   "metadata": {},
   "outputs": [],
   "source": [
    "#df.mileage.unique()\n",
    "#Перед тем, как километраж конвертировать из str в int, нужно так же почистить \n",
    "#Например встречается '\\xa0белый' в df.mileage, чего быть не должно"
   ]
  },
  {
   "cell_type": "code",
   "execution_count": 29,
   "id": "3851b279",
   "metadata": {},
   "outputs": [],
   "source": [
    "df = df[(df.mileage.apply(lambda x: 'тыс' in x)) | (df.mileage == '0')]"
   ]
  },
  {
   "cell_type": "code",
   "execution_count": 30,
   "id": "6686595e",
   "metadata": {},
   "outputs": [],
   "source": [
    "df.loc[:, ['hp']] = df.hp.astype(int)"
   ]
  },
  {
   "cell_type": "code",
   "execution_count": 31,
   "id": "349e58af",
   "metadata": {},
   "outputs": [],
   "source": [
    "pattern = r'\\b\\d+\\b'\n",
    "df['mileage'] = df.mileage.apply(lambda x: re.search(pattern, x)[0] + '000').copy()"
   ]
  },
  {
   "cell_type": "code",
   "execution_count": 32,
   "id": "683e49bb",
   "metadata": {},
   "outputs": [
    {
     "data": {
      "text/html": [
       "<div>\n",
       "<style scoped>\n",
       "    .dataframe tbody tr th:only-of-type {\n",
       "        vertical-align: middle;\n",
       "    }\n",
       "\n",
       "    .dataframe tbody tr th {\n",
       "        vertical-align: top;\n",
       "    }\n",
       "\n",
       "    .dataframe thead th {\n",
       "        text-align: right;\n",
       "    }\n",
       "</style>\n",
       "<table border=\"1\" class=\"dataframe\">\n",
       "  <thead>\n",
       "    <tr style=\"text-align: right;\">\n",
       "      <th></th>\n",
       "      <th>name</th>\n",
       "      <th>year</th>\n",
       "      <th>price</th>\n",
       "      <th>place</th>\n",
       "      <th>liters</th>\n",
       "      <th>engine</th>\n",
       "      <th>transmission</th>\n",
       "      <th>drivetrain</th>\n",
       "      <th>mileage</th>\n",
       "      <th>new</th>\n",
       "      <th>hp</th>\n",
       "    </tr>\n",
       "  </thead>\n",
       "  <tbody>\n",
       "    <tr>\n",
       "      <th>0</th>\n",
       "      <td>Kia Rio</td>\n",
       "      <td>2019</td>\n",
       "      <td>1330000</td>\n",
       "      <td>Курган</td>\n",
       "      <td>1.4</td>\n",
       "      <td>бензин</td>\n",
       "      <td>автомат</td>\n",
       "      <td>передний</td>\n",
       "      <td>37000</td>\n",
       "      <td>0</td>\n",
       "      <td>100</td>\n",
       "    </tr>\n",
       "    <tr>\n",
       "      <th>1</th>\n",
       "      <td>Kia Rio</td>\n",
       "      <td>2015</td>\n",
       "      <td>970000</td>\n",
       "      <td>Екатеринбург</td>\n",
       "      <td>1.6</td>\n",
       "      <td>бензин</td>\n",
       "      <td>автомат</td>\n",
       "      <td>передний</td>\n",
       "      <td>108000</td>\n",
       "      <td>0</td>\n",
       "      <td>123</td>\n",
       "    </tr>\n",
       "    <tr>\n",
       "      <th>2</th>\n",
       "      <td>Kia Rio</td>\n",
       "      <td>2017</td>\n",
       "      <td>795000</td>\n",
       "      <td>Армавир</td>\n",
       "      <td>1.4</td>\n",
       "      <td>бензин</td>\n",
       "      <td>механика</td>\n",
       "      <td>передний</td>\n",
       "      <td>89000</td>\n",
       "      <td>0</td>\n",
       "      <td>100</td>\n",
       "    </tr>\n",
       "  </tbody>\n",
       "</table>\n",
       "</div>"
      ],
      "text/plain": [
       "      name  year    price         place  liters  engine transmission  \\\n",
       "0  Kia Rio  2019  1330000        Курган     1.4  бензин      автомат   \n",
       "1  Kia Rio  2015   970000  Екатеринбург     1.6  бензин      автомат   \n",
       "2  Kia Rio  2017   795000       Армавир     1.4  бензин     механика   \n",
       "\n",
       "  drivetrain mileage  new   hp  \n",
       "0   передний   37000    0  100  \n",
       "1   передний  108000    0  123  \n",
       "2   передний   89000    0  100  "
      ]
     },
     "execution_count": 32,
     "metadata": {},
     "output_type": "execute_result"
    }
   ],
   "source": [
    "df[:3]"
   ]
  },
  {
   "cell_type": "code",
   "execution_count": 33,
   "id": "31d0e260",
   "metadata": {},
   "outputs": [
    {
     "data": {
      "text/plain": [
       "array(['Kia Rio', 'Kia Sportage', 'Kia Ceed', 'Kia Sorento', 'Kia Cerato',\n",
       "       'Kia K5', 'Kia Optima', 'Kia Soul', 'Kia Rio X (X-Line)',\n",
       "       'Kia Seltos', 'Kia Picanto', 'Kia Spectra', 'Kia Carnival',\n",
       "       'Kia Mohave', 'Kia Stinger', 'Kia Magentis', 'Kia Venga',\n",
       "       'Kia ProCeed', 'Kia Carens', 'Kia Forte'], dtype=object)"
      ]
     },
     "execution_count": 33,
     "metadata": {},
     "output_type": "execute_result"
    }
   ],
   "source": [
    "df.name.unique()"
   ]
  },
  {
   "cell_type": "code",
   "execution_count": 34,
   "id": "27bd0fec",
   "metadata": {},
   "outputs": [],
   "source": [
    "car_type = {\n",
    "    'sedan': ['Kia Rio', 'Kia Ceed', 'Kia Cerato', 'Kia K5', 'Kia Optima', 'Kia Spectra', \\\n",
    "              'Kia Magentis', 'Kia Forte'],\n",
    "    'off_roader': ['Kia Sportage', 'Kia Sorento', 'Kia Seltos', 'Kia Mohave'],\n",
    "    'hatchback': ['Kia Soul', 'Kia Rio X (X-Line)', 'Kia Picanto', 'Kia Stinger', 'Kia Venga', \\\n",
    "               'Kia ProCeed'],\n",
    "    'minivan': ['Kia Carnival', 'Kia Carens']\n",
    "}"
   ]
  },
  {
   "cell_type": "code",
   "execution_count": 35,
   "id": "3e4d3fa7",
   "metadata": {},
   "outputs": [],
   "source": [
    "def set_body_type(name):\n",
    "    for key in car_type.keys():\n",
    "        if name in car_type[key]:\n",
    "            return key"
   ]
  },
  {
   "cell_type": "code",
   "execution_count": 36,
   "id": "0cadb150",
   "metadata": {},
   "outputs": [],
   "source": [
    "df['body_type'] = df.name.apply(lambda x: set_body_type(x))"
   ]
  },
  {
   "cell_type": "code",
   "execution_count": 37,
   "id": "23a6781c",
   "metadata": {},
   "outputs": [
    {
     "data": {
      "text/html": [
       "<div>\n",
       "<style scoped>\n",
       "    .dataframe tbody tr th:only-of-type {\n",
       "        vertical-align: middle;\n",
       "    }\n",
       "\n",
       "    .dataframe tbody tr th {\n",
       "        vertical-align: top;\n",
       "    }\n",
       "\n",
       "    .dataframe thead th {\n",
       "        text-align: right;\n",
       "    }\n",
       "</style>\n",
       "<table border=\"1\" class=\"dataframe\">\n",
       "  <thead>\n",
       "    <tr style=\"text-align: right;\">\n",
       "      <th></th>\n",
       "      <th>year</th>\n",
       "      <th>quantity</th>\n",
       "    </tr>\n",
       "  </thead>\n",
       "  <tbody>\n",
       "    <tr>\n",
       "      <th>0</th>\n",
       "      <td>1992</td>\n",
       "      <td>1</td>\n",
       "    </tr>\n",
       "    <tr>\n",
       "      <th>1</th>\n",
       "      <td>1993</td>\n",
       "      <td>6</td>\n",
       "    </tr>\n",
       "    <tr>\n",
       "      <th>2</th>\n",
       "      <td>1994</td>\n",
       "      <td>2</td>\n",
       "    </tr>\n",
       "    <tr>\n",
       "      <th>3</th>\n",
       "      <td>1995</td>\n",
       "      <td>5</td>\n",
       "    </tr>\n",
       "    <tr>\n",
       "      <th>4</th>\n",
       "      <td>1996</td>\n",
       "      <td>1</td>\n",
       "    </tr>\n",
       "    <tr>\n",
       "      <th>5</th>\n",
       "      <td>1997</td>\n",
       "      <td>1</td>\n",
       "    </tr>\n",
       "    <tr>\n",
       "      <th>6</th>\n",
       "      <td>1998</td>\n",
       "      <td>3</td>\n",
       "    </tr>\n",
       "    <tr>\n",
       "      <th>7</th>\n",
       "      <td>1999</td>\n",
       "      <td>3</td>\n",
       "    </tr>\n",
       "    <tr>\n",
       "      <th>8</th>\n",
       "      <td>2000</td>\n",
       "      <td>9</td>\n",
       "    </tr>\n",
       "    <tr>\n",
       "      <th>9</th>\n",
       "      <td>2001</td>\n",
       "      <td>27</td>\n",
       "    </tr>\n",
       "    <tr>\n",
       "      <th>10</th>\n",
       "      <td>2002</td>\n",
       "      <td>84</td>\n",
       "    </tr>\n",
       "    <tr>\n",
       "      <th>11</th>\n",
       "      <td>2003</td>\n",
       "      <td>64</td>\n",
       "    </tr>\n",
       "  </tbody>\n",
       "</table>\n",
       "</div>"
      ],
      "text/plain": [
       "    year  quantity\n",
       "0   1992         1\n",
       "1   1993         6\n",
       "2   1994         2\n",
       "3   1995         5\n",
       "4   1996         1\n",
       "5   1997         1\n",
       "6   1998         3\n",
       "7   1999         3\n",
       "8   2000         9\n",
       "9   2001        27\n",
       "10  2002        84\n",
       "11  2003        64"
      ]
     },
     "execution_count": 37,
     "metadata": {},
     "output_type": "execute_result"
    }
   ],
   "source": [
    "year_groupby = df.groupby('year', as_index=False).transmission \\\n",
    "    .count() \\\n",
    "    .rename(columns={'transmission': 'quantity'})\n",
    "\n",
    "year_groupby.head(12)"
   ]
  },
  {
   "cell_type": "code",
   "execution_count": 38,
   "id": "56f6709b",
   "metadata": {},
   "outputs": [
    {
     "data": {
      "image/png": "[encoded data removed]",
      "text/plain": [
       "<Figure size 640x480 with 1 Axes>"
      ]
     },
     "metadata": {},
     "output_type": "display_data"
    }
   ],
   "source": [
    "sns.barplot(data=year_groupby, x='year', y='quantity')\n",
    "\n",
    "plt.xticks(rotation=45);\n",
    "plt.title('Количество машин разных годов выпуска\\n');"
   ]
  },
  {
   "cell_type": "code",
   "execution_count": 39,
   "id": "0e4d8245",
   "metadata": {},
   "outputs": [],
   "source": [
    "#Будем брать года, начиная с 2001\n",
    "df = df[df.year >= 2001]"
   ]
  },
  {
   "cell_type": "code",
   "execution_count": 40,
   "id": "8e332d50",
   "metadata": {},
   "outputs": [
    {
     "data": {
      "text/html": [
       "<div>\n",
       "<style scoped>\n",
       "    .dataframe tbody tr th:only-of-type {\n",
       "        vertical-align: middle;\n",
       "    }\n",
       "\n",
       "    .dataframe tbody tr th {\n",
       "        vertical-align: top;\n",
       "    }\n",
       "\n",
       "    .dataframe thead th {\n",
       "        text-align: right;\n",
       "    }\n",
       "</style>\n",
       "<table border=\"1\" class=\"dataframe\">\n",
       "  <thead>\n",
       "    <tr style=\"text-align: right;\">\n",
       "      <th></th>\n",
       "      <th>year</th>\n",
       "      <th>price</th>\n",
       "      <th>liters</th>\n",
       "      <th>new</th>\n",
       "      <th>hp</th>\n",
       "    </tr>\n",
       "  </thead>\n",
       "  <tbody>\n",
       "    <tr>\n",
       "      <th>count</th>\n",
       "      <td>16316.000000</td>\n",
       "      <td>1.631600e+04</td>\n",
       "      <td>16316.000000</td>\n",
       "      <td>16316.000000</td>\n",
       "      <td>16316.000000</td>\n",
       "    </tr>\n",
       "    <tr>\n",
       "      <th>mean</th>\n",
       "      <td>2017.203788</td>\n",
       "      <td>1.928802e+06</td>\n",
       "      <td>1.922775</td>\n",
       "      <td>0.219784</td>\n",
       "      <td>149.092486</td>\n",
       "    </tr>\n",
       "    <tr>\n",
       "      <th>std</th>\n",
       "      <td>5.039528</td>\n",
       "      <td>1.209036e+06</td>\n",
       "      <td>0.441278</td>\n",
       "      <td>0.414113</td>\n",
       "      <td>41.862078</td>\n",
       "    </tr>\n",
       "    <tr>\n",
       "      <th>min</th>\n",
       "      <td>2001.000000</td>\n",
       "      <td>7.500000e+04</td>\n",
       "      <td>1.000000</td>\n",
       "      <td>0.000000</td>\n",
       "      <td>60.000000</td>\n",
       "    </tr>\n",
       "    <tr>\n",
       "      <th>25%</th>\n",
       "      <td>2014.000000</td>\n",
       "      <td>1.000000e+06</td>\n",
       "      <td>1.600000</td>\n",
       "      <td>0.000000</td>\n",
       "      <td>123.000000</td>\n",
       "    </tr>\n",
       "    <tr>\n",
       "      <th>50%</th>\n",
       "      <td>2019.000000</td>\n",
       "      <td>1.730900e+06</td>\n",
       "      <td>2.000000</td>\n",
       "      <td>0.000000</td>\n",
       "      <td>150.000000</td>\n",
       "    </tr>\n",
       "    <tr>\n",
       "      <th>75%</th>\n",
       "      <td>2022.000000</td>\n",
       "      <td>2.532085e+06</td>\n",
       "      <td>2.200000</td>\n",
       "      <td>0.000000</td>\n",
       "      <td>178.000000</td>\n",
       "    </tr>\n",
       "    <tr>\n",
       "      <th>max</th>\n",
       "      <td>2023.000000</td>\n",
       "      <td>8.999000e+06</td>\n",
       "      <td>3.800000</td>\n",
       "      <td>1.000000</td>\n",
       "      <td>1594.000000</td>\n",
       "    </tr>\n",
       "  </tbody>\n",
       "</table>\n",
       "</div>"
      ],
      "text/plain": [
       "               year         price        liters           new            hp\n",
       "count  16316.000000  1.631600e+04  16316.000000  16316.000000  16316.000000\n",
       "mean    2017.203788  1.928802e+06      1.922775      0.219784    149.092486\n",
       "std        5.039528  1.209036e+06      0.441278      0.414113     41.862078\n",
       "min     2001.000000  7.500000e+04      1.000000      0.000000     60.000000\n",
       "25%     2014.000000  1.000000e+06      1.600000      0.000000    123.000000\n",
       "50%     2019.000000  1.730900e+06      2.000000      0.000000    150.000000\n",
       "75%     2022.000000  2.532085e+06      2.200000      0.000000    178.000000\n",
       "max     2023.000000  8.999000e+06      3.800000      1.000000   1594.000000"
      ]
     },
     "execution_count": 40,
     "metadata": {},
     "output_type": "execute_result"
    }
   ],
   "source": [
    "df.describe()"
   ]
  },
  {
   "cell_type": "code",
   "execution_count": 41,
   "id": "acceec5d",
   "metadata": {},
   "outputs": [
    {
     "data": {
      "text/plain": [
       "<AxesSubplot:xlabel='hp', ylabel='Count'>"
      ]
     },
     "execution_count": 41,
     "metadata": {},
     "output_type": "execute_result"
    },
    {
     "data": {
      "image/png": "[encoded data removed]",
      "text/plain": [
       "<Figure size 640x480 with 1 Axes>"
      ]
     },
     "metadata": {},
     "output_type": "display_data"
    }
   ],
   "source": [
    "sns.histplot(data=df, x='hp')\n",
    "#Есть значительные выбросы, очевидно неточности в данных"
   ]
  },
  {
   "cell_type": "code",
   "execution_count": 42,
   "id": "d68f62fb",
   "metadata": {},
   "outputs": [
    {
     "data": {
      "text/plain": [
       "<AxesSubplot:xlabel='hp', ylabel='Count'>"
      ]
     },
     "execution_count": 42,
     "metadata": {},
     "output_type": "execute_result"
    },
    {
     "data": {
      "image/png": "[encoded data removed]",
      "text/plain": [
       "<Figure size 640x480 with 1 Axes>"
      ]
     },
     "metadata": {},
     "output_type": "display_data"
    }
   ],
   "source": [
    "sns.histplot(data=df[df.hp <= 400], x='hp')"
   ]
  },
  {
   "cell_type": "code",
   "execution_count": 43,
   "id": "960f6bb3",
   "metadata": {},
   "outputs": [],
   "source": [
    "df = df[df.hp <= 400]"
   ]
  },
  {
   "cell_type": "code",
   "execution_count": 44,
   "id": "00b9943b",
   "metadata": {},
   "outputs": [
    {
     "data": {
      "text/plain": [
       "<AxesSubplot:xlabel='body_type', ylabel='count'>"
      ]
     },
     "execution_count": 44,
     "metadata": {},
     "output_type": "execute_result"
    },
    {
     "data": {
      "image/png": "[encoded data removed]",
      "text/plain": [
       "<Figure size 640x480 with 1 Axes>"
      ]
     },
     "metadata": {},
     "output_type": "display_data"
    }
   ],
   "source": [
    "sns.countplot(data=df, x='body_type')"
   ]
  },
  {
   "cell_type": "code",
   "execution_count": 45,
   "id": "dd3c68be",
   "metadata": {},
   "outputs": [
    {
     "data": {
      "text/html": [
       "<div>\n",
       "<style scoped>\n",
       "    .dataframe tbody tr th:only-of-type {\n",
       "        vertical-align: middle;\n",
       "    }\n",
       "\n",
       "    .dataframe tbody tr th {\n",
       "        vertical-align: top;\n",
       "    }\n",
       "\n",
       "    .dataframe thead th {\n",
       "        text-align: right;\n",
       "    }\n",
       "</style>\n",
       "<table border=\"1\" class=\"dataframe\">\n",
       "  <thead>\n",
       "    <tr style=\"text-align: right;\">\n",
       "      <th></th>\n",
       "      <th>name</th>\n",
       "      <th>year</th>\n",
       "      <th>price</th>\n",
       "      <th>place</th>\n",
       "      <th>liters</th>\n",
       "      <th>engine</th>\n",
       "      <th>transmission</th>\n",
       "      <th>drivetrain</th>\n",
       "      <th>mileage</th>\n",
       "      <th>new</th>\n",
       "      <th>hp</th>\n",
       "      <th>body_type</th>\n",
       "    </tr>\n",
       "  </thead>\n",
       "  <tbody>\n",
       "    <tr>\n",
       "      <th>0</th>\n",
       "      <td>Kia Rio</td>\n",
       "      <td>2019</td>\n",
       "      <td>1330000</td>\n",
       "      <td>Курган</td>\n",
       "      <td>1.4</td>\n",
       "      <td>бензин</td>\n",
       "      <td>автомат</td>\n",
       "      <td>передний</td>\n",
       "      <td>37000</td>\n",
       "      <td>0</td>\n",
       "      <td>100</td>\n",
       "      <td>sedan</td>\n",
       "    </tr>\n",
       "    <tr>\n",
       "      <th>1</th>\n",
       "      <td>Kia Rio</td>\n",
       "      <td>2015</td>\n",
       "      <td>970000</td>\n",
       "      <td>Екатеринбург</td>\n",
       "      <td>1.6</td>\n",
       "      <td>бензин</td>\n",
       "      <td>автомат</td>\n",
       "      <td>передний</td>\n",
       "      <td>108000</td>\n",
       "      <td>0</td>\n",
       "      <td>123</td>\n",
       "      <td>sedan</td>\n",
       "    </tr>\n",
       "  </tbody>\n",
       "</table>\n",
       "</div>"
      ],
      "text/plain": [
       "      name  year    price         place  liters  engine transmission  \\\n",
       "0  Kia Rio  2019  1330000        Курган     1.4  бензин      автомат   \n",
       "1  Kia Rio  2015   970000  Екатеринбург     1.6  бензин      автомат   \n",
       "\n",
       "  drivetrain mileage  new   hp body_type  \n",
       "0   передний   37000    0  100     sedan  \n",
       "1   передний  108000    0  123     sedan  "
      ]
     },
     "execution_count": 45,
     "metadata": {},
     "output_type": "execute_result"
    }
   ],
   "source": [
    "df.head(2)"
   ]
  },
  {
   "cell_type": "code",
   "execution_count": 46,
   "id": "6717163d",
   "metadata": {},
   "outputs": [],
   "source": [
    "top_10_places = df.groupby('place', as_index=False).name \\\n",
    "    .count() \\\n",
    "    .rename(columns={'name': 'quantity'}) \\\n",
    "    .sort_values('quantity', ascending=False) \\\n",
    "    .head(10)"
   ]
  },
  {
   "cell_type": "code",
   "execution_count": 47,
   "id": "b7430585",
   "metadata": {},
   "outputs": [
    {
     "data": {
      "text/plain": [
       "Text(0.5, 1.0, 'Топ 10 городов по количеству объявлений\\n')"
      ]
     },
     "execution_count": 47,
     "metadata": {},
     "output_type": "execute_result"
    },
    {
     "data": {
      "image/png": "[encoded data removed]",
      "text/plain": [
       "<Figure size 640x480 with 1 Axes>"
      ]
     },
     "metadata": {},
     "output_type": "display_data"
    }
   ],
   "source": [
    "sns.barplot(data=top_10_places, x='place', y='quantity')\n",
    "\n",
    "plt.xticks(rotation=45);\n",
    "plt.title('Топ 10 городов по количеству объявлений\\n')"
   ]
  },
  {
   "cell_type": "code",
   "execution_count": 48,
   "id": "88288b46",
   "metadata": {},
   "outputs": [
    {
     "data": {
      "text/plain": [
       "<AxesSubplot:xlabel='engine', ylabel='count'>"
      ]
     },
     "execution_count": 48,
     "metadata": {},
     "output_type": "execute_result"
    },
    {
     "data": {
      "image/png": "[encoded data removed]",
      "text/plain": [
       "<Figure size 640x480 with 1 Axes>"
      ]
     },
     "metadata": {},
     "output_type": "display_data"
    }
   ],
   "source": [
    "sns.countplot(data = df, x='engine')"
   ]
  },
  {
   "cell_type": "code",
   "execution_count": 49,
   "id": "aa453d59",
   "metadata": {},
   "outputs": [],
   "source": [
    "#Слишком мало объектов с 'гибрид', поэтому удалим их\n",
    "df = df[df.engine != 'гибрид']"
   ]
  },
  {
   "cell_type": "code",
   "execution_count": 50,
   "id": "418f6017",
   "metadata": {},
   "outputs": [
    {
     "data": {
      "text/html": [
       "<div>\n",
       "<style scoped>\n",
       "    .dataframe tbody tr th:only-of-type {\n",
       "        vertical-align: middle;\n",
       "    }\n",
       "\n",
       "    .dataframe tbody tr th {\n",
       "        vertical-align: top;\n",
       "    }\n",
       "\n",
       "    .dataframe thead th {\n",
       "        text-align: right;\n",
       "    }\n",
       "</style>\n",
       "<table border=\"1\" class=\"dataframe\">\n",
       "  <thead>\n",
       "    <tr style=\"text-align: right;\">\n",
       "      <th></th>\n",
       "      <th>drivetrain</th>\n",
       "      <th>quantity</th>\n",
       "    </tr>\n",
       "  </thead>\n",
       "  <tbody>\n",
       "    <tr>\n",
       "      <th>0</th>\n",
       "      <td>4WD</td>\n",
       "      <td>3748</td>\n",
       "    </tr>\n",
       "    <tr>\n",
       "      <th>1</th>\n",
       "      <td>задний</td>\n",
       "      <td>29</td>\n",
       "    </tr>\n",
       "    <tr>\n",
       "      <th>2</th>\n",
       "      <td>передний</td>\n",
       "      <td>12522</td>\n",
       "    </tr>\n",
       "  </tbody>\n",
       "</table>\n",
       "</div>"
      ],
      "text/plain": [
       "  drivetrain  quantity\n",
       "0        4WD      3748\n",
       "1     задний        29\n",
       "2   передний     12522"
      ]
     },
     "execution_count": 50,
     "metadata": {},
     "output_type": "execute_result"
    }
   ],
   "source": [
    "df.groupby('drivetrain', as_index=False).name \\\n",
    "    .count() \\\n",
    "    .rename(columns={'name': 'quantity'})\n",
    "\n"
   ]
  },
  {
   "cell_type": "code",
   "execution_count": 51,
   "id": "876a9f95",
   "metadata": {},
   "outputs": [],
   "source": [
    "# Аналогично с df.drivetrain == 'задний'. Мало значений, поэтому удалим \n",
    "# Видимо среди машин KIA задний привод не популярен\n",
    "df = df[df.drivetrain != 'задний']"
   ]
  },
  {
   "cell_type": "code",
   "execution_count": 52,
   "id": "b6e26457",
   "metadata": {},
   "outputs": [
    {
     "data": {
      "text/html": [
       "<div>\n",
       "<style scoped>\n",
       "    .dataframe tbody tr th:only-of-type {\n",
       "        vertical-align: middle;\n",
       "    }\n",
       "\n",
       "    .dataframe tbody tr th {\n",
       "        vertical-align: top;\n",
       "    }\n",
       "\n",
       "    .dataframe thead th {\n",
       "        text-align: right;\n",
       "    }\n",
       "</style>\n",
       "<table border=\"1\" class=\"dataframe\">\n",
       "  <thead>\n",
       "    <tr style=\"text-align: right;\">\n",
       "      <th></th>\n",
       "      <th>name</th>\n",
       "      <th>year</th>\n",
       "      <th>price</th>\n",
       "      <th>place</th>\n",
       "      <th>liters</th>\n",
       "      <th>engine</th>\n",
       "      <th>transmission</th>\n",
       "      <th>drivetrain</th>\n",
       "      <th>mileage</th>\n",
       "      <th>new</th>\n",
       "      <th>hp</th>\n",
       "      <th>body_type</th>\n",
       "    </tr>\n",
       "  </thead>\n",
       "  <tbody>\n",
       "    <tr>\n",
       "      <th>0</th>\n",
       "      <td>Kia Rio</td>\n",
       "      <td>2019</td>\n",
       "      <td>1330000</td>\n",
       "      <td>Курган</td>\n",
       "      <td>1.4</td>\n",
       "      <td>бензин</td>\n",
       "      <td>автомат</td>\n",
       "      <td>передний</td>\n",
       "      <td>37000</td>\n",
       "      <td>0</td>\n",
       "      <td>100</td>\n",
       "      <td>sedan</td>\n",
       "    </tr>\n",
       "    <tr>\n",
       "      <th>1</th>\n",
       "      <td>Kia Rio</td>\n",
       "      <td>2015</td>\n",
       "      <td>970000</td>\n",
       "      <td>Екатеринбург</td>\n",
       "      <td>1.6</td>\n",
       "      <td>бензин</td>\n",
       "      <td>автомат</td>\n",
       "      <td>передний</td>\n",
       "      <td>108000</td>\n",
       "      <td>0</td>\n",
       "      <td>123</td>\n",
       "      <td>sedan</td>\n",
       "    </tr>\n",
       "  </tbody>\n",
       "</table>\n",
       "</div>"
      ],
      "text/plain": [
       "      name  year    price         place  liters  engine transmission  \\\n",
       "0  Kia Rio  2019  1330000        Курган     1.4  бензин      автомат   \n",
       "1  Kia Rio  2015   970000  Екатеринбург     1.6  бензин      автомат   \n",
       "\n",
       "  drivetrain mileage  new   hp body_type  \n",
       "0   передний   37000    0  100     sedan  \n",
       "1   передний  108000    0  123     sedan  "
      ]
     },
     "execution_count": 52,
     "metadata": {},
     "output_type": "execute_result"
    }
   ],
   "source": [
    "df.head(2)"
   ]
  },
  {
   "cell_type": "code",
   "execution_count": 53,
   "id": "95079e1b",
   "metadata": {},
   "outputs": [
    {
     "data": {
      "text/plain": [
       "array(['передний', '4WD'], dtype=object)"
      ]
     },
     "execution_count": 53,
     "metadata": {},
     "output_type": "execute_result"
    }
   ],
   "source": [
    "df.drivetrain.unique()"
   ]
  },
  {
   "cell_type": "code",
   "execution_count": 54,
   "id": "892c691c",
   "metadata": {},
   "outputs": [],
   "source": [
    "df.engine.replace({'бензин': 'petrol', 'дизель': 'diesel'}, inplace=True)\n",
    "df.transmission.replace({'автомат': 'automatic', 'механика': 'mechanic', 'робот': \\\n",
    "                         'robot', 'вариатор': 'variator'}, inplace=True)\n",
    "df.drivetrain.replace({'передний': 'front_wheel'}, inplace=True)"
   ]
  },
  {
   "cell_type": "code",
   "execution_count": 55,
   "id": "9a40a03c",
   "metadata": {},
   "outputs": [
    {
     "data": {
      "text/html": [
       "<div>\n",
       "<style scoped>\n",
       "    .dataframe tbody tr th:only-of-type {\n",
       "        vertical-align: middle;\n",
       "    }\n",
       "\n",
       "    .dataframe tbody tr th {\n",
       "        vertical-align: top;\n",
       "    }\n",
       "\n",
       "    .dataframe thead th {\n",
       "        text-align: right;\n",
       "    }\n",
       "</style>\n",
       "<table border=\"1\" class=\"dataframe\">\n",
       "  <thead>\n",
       "    <tr style=\"text-align: right;\">\n",
       "      <th></th>\n",
       "      <th>name</th>\n",
       "      <th>year</th>\n",
       "      <th>price</th>\n",
       "      <th>place</th>\n",
       "      <th>liters</th>\n",
       "      <th>engine</th>\n",
       "      <th>transmission</th>\n",
       "      <th>drivetrain</th>\n",
       "      <th>mileage</th>\n",
       "      <th>new</th>\n",
       "      <th>hp</th>\n",
       "      <th>body_type</th>\n",
       "    </tr>\n",
       "  </thead>\n",
       "  <tbody>\n",
       "    <tr>\n",
       "      <th>0</th>\n",
       "      <td>Kia Rio</td>\n",
       "      <td>2019</td>\n",
       "      <td>1330000</td>\n",
       "      <td>Курган</td>\n",
       "      <td>1.4</td>\n",
       "      <td>petrol</td>\n",
       "      <td>automatic</td>\n",
       "      <td>front_wheel</td>\n",
       "      <td>37000</td>\n",
       "      <td>0</td>\n",
       "      <td>100</td>\n",
       "      <td>sedan</td>\n",
       "    </tr>\n",
       "    <tr>\n",
       "      <th>1</th>\n",
       "      <td>Kia Rio</td>\n",
       "      <td>2015</td>\n",
       "      <td>970000</td>\n",
       "      <td>Екатеринбург</td>\n",
       "      <td>1.6</td>\n",
       "      <td>petrol</td>\n",
       "      <td>automatic</td>\n",
       "      <td>front_wheel</td>\n",
       "      <td>108000</td>\n",
       "      <td>0</td>\n",
       "      <td>123</td>\n",
       "      <td>sedan</td>\n",
       "    </tr>\n",
       "    <tr>\n",
       "      <th>2</th>\n",
       "      <td>Kia Rio</td>\n",
       "      <td>2017</td>\n",
       "      <td>795000</td>\n",
       "      <td>Армавир</td>\n",
       "      <td>1.4</td>\n",
       "      <td>petrol</td>\n",
       "      <td>mechanic</td>\n",
       "      <td>front_wheel</td>\n",
       "      <td>89000</td>\n",
       "      <td>0</td>\n",
       "      <td>100</td>\n",
       "      <td>sedan</td>\n",
       "    </tr>\n",
       "    <tr>\n",
       "      <th>3</th>\n",
       "      <td>Kia Rio</td>\n",
       "      <td>2017</td>\n",
       "      <td>1000055</td>\n",
       "      <td>Армавир</td>\n",
       "      <td>1.4</td>\n",
       "      <td>petrol</td>\n",
       "      <td>mechanic</td>\n",
       "      <td>front_wheel</td>\n",
       "      <td>93000</td>\n",
       "      <td>0</td>\n",
       "      <td>107</td>\n",
       "      <td>sedan</td>\n",
       "    </tr>\n",
       "    <tr>\n",
       "      <th>4</th>\n",
       "      <td>Kia Rio</td>\n",
       "      <td>2001</td>\n",
       "      <td>235000</td>\n",
       "      <td>Курганинск</td>\n",
       "      <td>1.5</td>\n",
       "      <td>petrol</td>\n",
       "      <td>automatic</td>\n",
       "      <td>front_wheel</td>\n",
       "      <td>208000</td>\n",
       "      <td>0</td>\n",
       "      <td>96</td>\n",
       "      <td>sedan</td>\n",
       "    </tr>\n",
       "  </tbody>\n",
       "</table>\n",
       "</div>"
      ],
      "text/plain": [
       "      name  year    price         place  liters  engine transmission  \\\n",
       "0  Kia Rio  2019  1330000        Курган     1.4  petrol    automatic   \n",
       "1  Kia Rio  2015   970000  Екатеринбург     1.6  petrol    automatic   \n",
       "2  Kia Rio  2017   795000       Армавир     1.4  petrol     mechanic   \n",
       "3  Kia Rio  2017  1000055       Армавир     1.4  petrol     mechanic   \n",
       "4  Kia Rio  2001   235000    Курганинск     1.5  petrol    automatic   \n",
       "\n",
       "    drivetrain mileage  new   hp body_type  \n",
       "0  front_wheel   37000    0  100     sedan  \n",
       "1  front_wheel  108000    0  123     sedan  \n",
       "2  front_wheel   89000    0  100     sedan  \n",
       "3  front_wheel   93000    0  107     sedan  \n",
       "4  front_wheel  208000    0   96     sedan  "
      ]
     },
     "execution_count": 55,
     "metadata": {},
     "output_type": "execute_result"
    }
   ],
   "source": [
    "df.head()"
   ]
  },
  {
   "cell_type": "code",
   "execution_count": 56,
   "id": "7a3b0efb",
   "metadata": {},
   "outputs": [
    {
     "name": "stdout",
     "output_type": "stream",
     "text": [
      "<class 'pandas.core.frame.DataFrame'>\n",
      "Int64Index: 16270 entries, 0 to 16576\n",
      "Data columns (total 12 columns):\n",
      " #   Column        Non-Null Count  Dtype  \n",
      "---  ------        --------------  -----  \n",
      " 0   name          16270 non-null  object \n",
      " 1   year          16270 non-null  int64  \n",
      " 2   price         16270 non-null  int64  \n",
      " 3   place         16270 non-null  object \n",
      " 4   liters        16270 non-null  float64\n",
      " 5   engine        16270 non-null  object \n",
      " 6   transmission  16270 non-null  object \n",
      " 7   drivetrain    16270 non-null  object \n",
      " 8   mileage       16270 non-null  object \n",
      " 9   new           16270 non-null  int64  \n",
      " 10  hp            16270 non-null  int64  \n",
      " 11  body_type     16270 non-null  object \n",
      "dtypes: float64(1), int64(4), object(7)\n",
      "memory usage: 1.6+ MB\n"
     ]
    }
   ],
   "source": [
    "df.info()"
   ]
  },
  {
   "cell_type": "code",
   "execution_count": 57,
   "id": "04edf21c",
   "metadata": {},
   "outputs": [],
   "source": [
    "df['mileage'] = df['mileage'].astype('int')"
   ]
  },
  {
   "cell_type": "code",
   "execution_count": 58,
   "id": "3948566f",
   "metadata": {},
   "outputs": [
    {
     "data": {
      "text/html": [
       "<div>\n",
       "<style scoped>\n",
       "    .dataframe tbody tr th:only-of-type {\n",
       "        vertical-align: middle;\n",
       "    }\n",
       "\n",
       "    .dataframe tbody tr th {\n",
       "        vertical-align: top;\n",
       "    }\n",
       "\n",
       "    .dataframe thead th {\n",
       "        text-align: right;\n",
       "    }\n",
       "</style>\n",
       "<table border=\"1\" class=\"dataframe\">\n",
       "  <thead>\n",
       "    <tr style=\"text-align: right;\">\n",
       "      <th></th>\n",
       "      <th>name</th>\n",
       "      <th>year</th>\n",
       "      <th>price</th>\n",
       "      <th>place</th>\n",
       "      <th>liters</th>\n",
       "      <th>engine</th>\n",
       "      <th>transmission</th>\n",
       "      <th>drivetrain</th>\n",
       "      <th>mileage</th>\n",
       "      <th>new</th>\n",
       "      <th>hp</th>\n",
       "      <th>body_type</th>\n",
       "    </tr>\n",
       "  </thead>\n",
       "  <tbody>\n",
       "    <tr>\n",
       "      <th>96</th>\n",
       "      <td>Kia Rio</td>\n",
       "      <td>2013</td>\n",
       "      <td>650000</td>\n",
       "      <td>Славянск-На-Кубани</td>\n",
       "      <td>1.6</td>\n",
       "      <td>petrol</td>\n",
       "      <td>automatic</td>\n",
       "      <td>front_wheel</td>\n",
       "      <td>0</td>\n",
       "      <td>0</td>\n",
       "      <td>123</td>\n",
       "      <td>sedan</td>\n",
       "    </tr>\n",
       "    <tr>\n",
       "      <th>239</th>\n",
       "      <td>Kia Rio</td>\n",
       "      <td>2015</td>\n",
       "      <td>720000</td>\n",
       "      <td>Шахты</td>\n",
       "      <td>1.6</td>\n",
       "      <td>petrol</td>\n",
       "      <td>automatic</td>\n",
       "      <td>front_wheel</td>\n",
       "      <td>0</td>\n",
       "      <td>0</td>\n",
       "      <td>123</td>\n",
       "      <td>sedan</td>\n",
       "    </tr>\n",
       "    <tr>\n",
       "      <th>269</th>\n",
       "      <td>Kia Rio</td>\n",
       "      <td>2002</td>\n",
       "      <td>229000</td>\n",
       "      <td>Челябинск</td>\n",
       "      <td>1.5</td>\n",
       "      <td>petrol</td>\n",
       "      <td>mechanic</td>\n",
       "      <td>front_wheel</td>\n",
       "      <td>0</td>\n",
       "      <td>0</td>\n",
       "      <td>96</td>\n",
       "      <td>sedan</td>\n",
       "    </tr>\n",
       "    <tr>\n",
       "      <th>279</th>\n",
       "      <td>Kia Rio</td>\n",
       "      <td>2021</td>\n",
       "      <td>1380000</td>\n",
       "      <td>Славянск-На-Кубани</td>\n",
       "      <td>1.4</td>\n",
       "      <td>petrol</td>\n",
       "      <td>automatic</td>\n",
       "      <td>front_wheel</td>\n",
       "      <td>0</td>\n",
       "      <td>0</td>\n",
       "      <td>100</td>\n",
       "      <td>sedan</td>\n",
       "    </tr>\n",
       "    <tr>\n",
       "      <th>281</th>\n",
       "      <td>Kia Rio</td>\n",
       "      <td>2012</td>\n",
       "      <td>725000</td>\n",
       "      <td>Шахты</td>\n",
       "      <td>1.6</td>\n",
       "      <td>petrol</td>\n",
       "      <td>mechanic</td>\n",
       "      <td>front_wheel</td>\n",
       "      <td>0</td>\n",
       "      <td>0</td>\n",
       "      <td>123</td>\n",
       "      <td>sedan</td>\n",
       "    </tr>\n",
       "    <tr>\n",
       "      <th>...</th>\n",
       "      <td>...</td>\n",
       "      <td>...</td>\n",
       "      <td>...</td>\n",
       "      <td>...</td>\n",
       "      <td>...</td>\n",
       "      <td>...</td>\n",
       "      <td>...</td>\n",
       "      <td>...</td>\n",
       "      <td>...</td>\n",
       "      <td>...</td>\n",
       "      <td>...</td>\n",
       "      <td>...</td>\n",
       "    </tr>\n",
       "    <tr>\n",
       "      <th>16264</th>\n",
       "      <td>Kia Magentis</td>\n",
       "      <td>2006</td>\n",
       "      <td>499000</td>\n",
       "      <td>Стерлитамак</td>\n",
       "      <td>2.0</td>\n",
       "      <td>petrol</td>\n",
       "      <td>automatic</td>\n",
       "      <td>front_wheel</td>\n",
       "      <td>0</td>\n",
       "      <td>0</td>\n",
       "      <td>145</td>\n",
       "      <td>sedan</td>\n",
       "    </tr>\n",
       "    <tr>\n",
       "      <th>16349</th>\n",
       "      <td>Kia Venga</td>\n",
       "      <td>2012</td>\n",
       "      <td>630000</td>\n",
       "      <td>Чебоксары</td>\n",
       "      <td>1.6</td>\n",
       "      <td>petrol</td>\n",
       "      <td>mechanic</td>\n",
       "      <td>front_wheel</td>\n",
       "      <td>0</td>\n",
       "      <td>0</td>\n",
       "      <td>125</td>\n",
       "      <td>hatchback</td>\n",
       "    </tr>\n",
       "    <tr>\n",
       "      <th>16511</th>\n",
       "      <td>Kia Carens</td>\n",
       "      <td>2002</td>\n",
       "      <td>300000</td>\n",
       "      <td>Верхнеяркеево</td>\n",
       "      <td>2.0</td>\n",
       "      <td>diesel</td>\n",
       "      <td>mechanic</td>\n",
       "      <td>front_wheel</td>\n",
       "      <td>0</td>\n",
       "      <td>0</td>\n",
       "      <td>113</td>\n",
       "      <td>minivan</td>\n",
       "    </tr>\n",
       "    <tr>\n",
       "      <th>16513</th>\n",
       "      <td>Kia Carens</td>\n",
       "      <td>2006</td>\n",
       "      <td>220000</td>\n",
       "      <td>Славянск-На-Кубани</td>\n",
       "      <td>2.0</td>\n",
       "      <td>petrol</td>\n",
       "      <td>mechanic</td>\n",
       "      <td>front_wheel</td>\n",
       "      <td>0</td>\n",
       "      <td>0</td>\n",
       "      <td>139</td>\n",
       "      <td>minivan</td>\n",
       "    </tr>\n",
       "    <tr>\n",
       "      <th>16537</th>\n",
       "      <td>Kia Forte</td>\n",
       "      <td>2021</td>\n",
       "      <td>1900000</td>\n",
       "      <td>Ставрополь</td>\n",
       "      <td>2.0</td>\n",
       "      <td>petrol</td>\n",
       "      <td>automatic</td>\n",
       "      <td>front_wheel</td>\n",
       "      <td>0</td>\n",
       "      <td>0</td>\n",
       "      <td>150</td>\n",
       "      <td>sedan</td>\n",
       "    </tr>\n",
       "  </tbody>\n",
       "</table>\n",
       "<p>263 rows × 12 columns</p>\n",
       "</div>"
      ],
      "text/plain": [
       "               name  year    price               place  liters  engine  \\\n",
       "96          Kia Rio  2013   650000  Славянск-На-Кубани     1.6  petrol   \n",
       "239         Kia Rio  2015   720000               Шахты     1.6  petrol   \n",
       "269         Kia Rio  2002   229000           Челябинск     1.5  petrol   \n",
       "279         Kia Rio  2021  1380000  Славянск-На-Кубани     1.4  petrol   \n",
       "281         Kia Rio  2012   725000               Шахты     1.6  petrol   \n",
       "...             ...   ...      ...                 ...     ...     ...   \n",
       "16264  Kia Magentis  2006   499000         Стерлитамак     2.0  petrol   \n",
       "16349     Kia Venga  2012   630000           Чебоксары     1.6  petrol   \n",
       "16511    Kia Carens  2002   300000       Верхнеяркеево     2.0  diesel   \n",
       "16513    Kia Carens  2006   220000  Славянск-На-Кубани     2.0  petrol   \n",
       "16537     Kia Forte  2021  1900000          Ставрополь     2.0  petrol   \n",
       "\n",
       "      transmission   drivetrain  mileage  new   hp  body_type  \n",
       "96       automatic  front_wheel        0    0  123      sedan  \n",
       "239      automatic  front_wheel        0    0  123      sedan  \n",
       "269       mechanic  front_wheel        0    0   96      sedan  \n",
       "279      automatic  front_wheel        0    0  100      sedan  \n",
       "281       mechanic  front_wheel        0    0  123      sedan  \n",
       "...            ...          ...      ...  ...  ...        ...  \n",
       "16264    automatic  front_wheel        0    0  145      sedan  \n",
       "16349     mechanic  front_wheel        0    0  125  hatchback  \n",
       "16511     mechanic  front_wheel        0    0  113    minivan  \n",
       "16513     mechanic  front_wheel        0    0  139    minivan  \n",
       "16537    automatic  front_wheel        0    0  150      sedan  \n",
       "\n",
       "[263 rows x 12 columns]"
      ]
     },
     "execution_count": 58,
     "metadata": {},
     "output_type": "execute_result"
    }
   ],
   "source": [
    "#263 объектов имеют пробег 0 км, хотя df.year != 2022\n",
    "#Давайте заполним эти неточности\n",
    "df[(df.mileage == 0) & (df.year < 2022)]"
   ]
  },
  {
   "cell_type": "code",
   "execution_count": 59,
   "id": "1e6e278d",
   "metadata": {},
   "outputs": [
    {
     "data": {
      "text/html": [
       "<div>\n",
       "<style scoped>\n",
       "    .dataframe tbody tr th:only-of-type {\n",
       "        vertical-align: middle;\n",
       "    }\n",
       "\n",
       "    .dataframe tbody tr th {\n",
       "        vertical-align: top;\n",
       "    }\n",
       "\n",
       "    .dataframe thead th {\n",
       "        text-align: right;\n",
       "    }\n",
       "</style>\n",
       "<table border=\"1\" class=\"dataframe\">\n",
       "  <thead>\n",
       "    <tr style=\"text-align: right;\">\n",
       "      <th></th>\n",
       "      <th>year</th>\n",
       "      <th>mileage</th>\n",
       "    </tr>\n",
       "  </thead>\n",
       "  <tbody>\n",
       "    <tr>\n",
       "      <th>0</th>\n",
       "      <td>2001</td>\n",
       "      <td>221480</td>\n",
       "    </tr>\n",
       "    <tr>\n",
       "      <th>1</th>\n",
       "      <td>2002</td>\n",
       "      <td>238925</td>\n",
       "    </tr>\n",
       "    <tr>\n",
       "      <th>2</th>\n",
       "      <td>2003</td>\n",
       "      <td>224767</td>\n",
       "    </tr>\n",
       "  </tbody>\n",
       "</table>\n",
       "</div>"
      ],
      "text/plain": [
       "   year  mileage\n",
       "0  2001   221480\n",
       "1  2002   238925\n",
       "2  2003   224767"
      ]
     },
     "execution_count": 59,
     "metadata": {},
     "output_type": "execute_result"
    }
   ],
   "source": [
    "mean_mileage_on_each_year = df[df.mileage != 0].groupby('year', as_index=False) \\\n",
    "    .mileage.mean()[['year', 'mileage']] \\\n",
    "    .astype('int')\n",
    "\n",
    "mean_mileage_on_each_year.head(3)"
   ]
  },
  {
   "cell_type": "code",
   "execution_count": 60,
   "id": "2b976537",
   "metadata": {},
   "outputs": [],
   "source": [
    "dict_mean_mileage_year = {}\n",
    "for line in mean_mileage_on_each_year.iterrows():\n",
    "    dict_mean_mileage_year[line[1].year] = line[1].mileage\n",
    "\n",
    "# dict_mean_mileage_year"
   ]
  },
  {
   "cell_type": "code",
   "execution_count": 70,
   "id": "90d0a6fb",
   "metadata": {},
   "outputs": [],
   "source": [
    "def fill_mileage(year):\n",
    "    for key in dict_mean_mileage_year.keys():\n",
    "        if year == key:\n",
    "            return dict_mean_mileage_year[key]"
   ]
  },
  {
   "cell_type": "code",
   "execution_count": 71,
   "id": "c87bc673",
   "metadata": {},
   "outputs": [],
   "source": [
    "df.loc[(df.mileage == 0) & (df.year < 2022), 'mileage'] = \\\n",
    "    df[(df.mileage == 0) & (df.year < 2022)].year.apply(lambda x: fill_mileage(x))"
   ]
  },
  {
   "cell_type": "markdown",
   "id": "b564664c",
   "metadata": {},
   "source": [
    "# 2 Export the data"
   ]
  },
  {
   "cell_type": "code",
   "execution_count": 74,
   "id": "be7606f3",
   "metadata": {},
   "outputs": [],
   "source": [
    "df.to_csv('preprocessed_data_drom.csv')"
   ]
  },
  {
   "cell_type": "code",
   "execution_count": null,
   "id": "22192564",
   "metadata": {},
   "outputs": [],
   "source": []
  }
 ],
 "metadata": {
  "kernelspec": {
   "display_name": "Python 3 (ipykernel)",
   "language": "python",
   "name": "python3"
  },
  "language_info": {
   "codemirror_mode": {
    "name": "ipython",
    "version": 3
   },
   "file_extension": ".py",
   "mimetype": "text/x-python",
   "name": "python",
   "nbconvert_exporter": "python",
   "pygments_lexer": "ipython3",
   "version": "3.9.12"
  },
  "toc": {
   "base_numbering": 1,
   "nav_menu": {},
   "number_sections": false,
   "sideBar": true,
   "skip_h1_title": false,
   "title_cell": "Table of Contents",
   "title_sidebar": "Contents",
   "toc_cell": false,
   "toc_position": {
    "height": "calc(100% - 180px)",
    "left": "10px",
    "top": "150px",
    "width": "176.4px"
   },
   "toc_section_display": true,
   "toc_window_display": false
  }
 },
 "nbformat": 4,
 "nbformat_minor": 5
}
